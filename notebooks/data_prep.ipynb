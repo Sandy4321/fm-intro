{
 "cells": [
  {
   "cell_type": "markdown",
   "metadata": {},
   "source": [
    "# Data Preparation\n",
    "Here we import the MovieLens 100K dataset and split it into a Train, Validation, and Test datasets.\n",
    "\n",
    "Afterwards, we write them as CSV files to be used for the models"
   ]
  },
  {
   "cell_type": "code",
   "execution_count": 2,
   "metadata": {
    "collapsed": false
   },
   "outputs": [
    {
     "name": "stdout",
     "output_type": "stream",
     "text": [
      "../data/ml-100k\n"
     ]
    }
   ],
   "source": [
    "\n",
    "import sys\n",
    "import argparse\n",
    "from math import floor, ceil\n",
    "\n",
    "import numpy as np\n",
    "import pandas as pd\n",
    "\n",
    "\n",
    "# Global Variables\n",
    "DATA_LOCATION = \"../data\"\n",
    "DATA_FOLDER = \"ml-100k\"\n",
    "DATA_PATH = DATA_LOCATION + '/' + DATA_FOLDER\n",
    "DATA_OUTPUT_NAME = \"ml-100k\"\n"
   ]
  },
  {
   "cell_type": "markdown",
   "metadata": {},
   "source": [
    "### Import Data\n",
    "Read the data and parse it. Keep only the columns we want"
   ]
  },
  {
   "cell_type": "code",
   "execution_count": 8,
   "metadata": {
    "collapsed": false
   },
   "outputs": [
    {
     "name": "stdout",
     "output_type": "stream",
     "text": [
      "   movie_id  user_id sex\n",
      "0         1      308   M\n",
      "1         4      308   M\n",
      "2         5      308   M\n",
      "3         7      308   M\n",
      "4         8      308   M\n"
     ]
    }
   ],
   "source": [
    "\n",
    "# User\n",
    "u_cols = ['user_id', 'age', 'sex', 'occupation', 'zip_code']\n",
    "users = pd.read_csv(DATA_PATH + '/' + 'u.user', sep='|', names=u_cols, \n",
    "    encoding='latin-1')\n",
    "\n",
    "# Rating\n",
    "r_cols = ['user_id', 'movie_id', 'rating', 'unix_timestamp']\n",
    "ratings = pd.read_csv(DATA_PATH + '/' + 'u.data', sep='\\t', names=r_cols, \n",
    "    encoding='latin-1')\n",
    "\n",
    "# Movie\n",
    "m_cols = ['movie_id', 'title', 'release_date', 'video_release_date', 'imdb_url']\n",
    "m_cols_type = ['unknown', 'action', 'adventure', 'animation', 'childrens', 'comedy', \n",
    "    'crime', 'documentary', 'drama', 'fantasy', 'noir', 'horror', 'musical', \n",
    "    'mystery', 'romance', 'scifi', 'thriller', 'war', 'western']\n",
    "movies = pd.read_csv(DATA_PATH + '/' + 'u.item', sep='|', names=m_cols + m_cols_type,\n",
    "    encoding='latin-1')\n",
    "\n",
    "# Merge\n",
    "movie_ratings = pd.merge(movies, ratings)\n",
    "lens = pd.merge(movie_ratings, users)\n"
   ]
  },
  {
   "cell_type": "markdown",
   "metadata": {},
   "source": [
    "### Choose Columns\n",
    "Only select a few columns. We take the user and movie IDs and one contextual variable for the user - Gender."
   ]
  },
  {
   "cell_type": "code",
   "execution_count": 9,
   "metadata": {
    "collapsed": true
   },
   "outputs": [],
   "source": [
    "\n",
    "# Select only columns needed\n",
    "y = lens['rating']\n",
    "X = lens[['movie_id', 'user_id'] + ['sex']]\n",
    "\n",
    "\n",
    "# Count parameter space\n",
    "dct = {func.__name__:X.apply(func) for func in (pd.Series.nunique, pd.Series.count)}\n",
    "X_count = pd.concat(dct, axis=1)\n",
    "features_p = sum(X_count['nunique'])\n",
    "col_m = len(X.columns)\n",
    "\n",
    "# Convert to list\n",
    "y = y.values.tolist()\n",
    "X = X.values.tolist()\n",
    "\n",
    "# Save\n",
    "data = lens\n",
    "X = X\n",
    "y = y\n",
    "\n"
   ]
  },
  {
   "cell_type": "markdown",
   "metadata": {},
   "source": [
    "### Split Data\n",
    "We split data into three datasets"
   ]
  },
  {
   "cell_type": "code",
   "execution_count": 26,
   "metadata": {
    "collapsed": true
   },
   "outputs": [],
   "source": [
    "\n",
    "def SplitData(X, y, split = [0.8, 0.1, 0.1], seed = 1337):\n",
    "\n",
    "    if seed is not None:\n",
    "        np.random.seed(seed)\n",
    "\n",
    "    n = len(X)\n",
    "    index = np.arange(n)\n",
    "    i_train = int(floor(n * split[0]))\n",
    "    i_valid = int(floor(n * sum(split[:2])))\n",
    "\n",
    "    # Shuffle index\n",
    "    np.random.shuffle(index)\n",
    "\n",
    "    index_train = index[:i_train]\n",
    "    index_valid = index[i_train:i_valid]\n",
    "    index_test  = index[i_valid:]\n",
    "    \n",
    "    return({\n",
    "        'train': {\n",
    "            'X': [X[i] for i in index_train], \n",
    "            'Y': [y[i] for i in index_train]},\n",
    "        'valid': {\n",
    "            'X': [X[i] for i in index_valid], \n",
    "            'Y': [y[i] for i in index_valid]},\n",
    "        'test' : {\n",
    "            'X': [X[i] for i in index_test], \n",
    "            'Y': [y[i] for i in index_test]}\n",
    "    })\n",
    "\n",
    "def SplitDF(df, split = [0.8, 0.1, 0.1], seed = 1337):\n",
    "\n",
    "    if seed is not None:\n",
    "        np.random.seed(seed)\n",
    "\n",
    "    n = df.shape[0]\n",
    "    index = np.arange(n)\n",
    "    i_train = int(floor(n * split[0]))\n",
    "    i_valid = int(floor(n * sum(split[:2])))\n",
    "\n",
    "    # Shuffle index\n",
    "    np.random.shuffle(index)\n",
    "\n",
    "    index_train = index[:i_train]\n",
    "    index_valid = index[i_train:i_valid]\n",
    "    index_test  = index[i_valid:]\n",
    "    \n",
    "    return df.iloc[index_train], df.iloc[index_valid], df.iloc[index_test]\n"
   ]
  },
  {
   "cell_type": "code",
   "execution_count": 30,
   "metadata": {
    "collapsed": false
   },
   "outputs": [
    {
     "name": "stdout",
     "output_type": "stream",
     "text": [
      "(80000, 31)\n",
      "(10000, 31)\n",
      "(10000, 31)\n"
     ]
    }
   ],
   "source": [
    "\n",
    "lens.shape[0]\n",
    "\n",
    "df1, df2, df3 = SplitDF(lens)\n",
    "\n",
    "print(df1.shape)\n",
    "print(df2.shape)\n",
    "print(df3.shape)"
   ]
  },
  {
   "cell_type": "code",
   "execution_count": 20,
   "metadata": {
    "collapsed": false
   },
   "outputs": [
    {
     "name": "stdout",
     "output_type": "stream",
     "text": [
      "[0, 1, 2, 3, 4, 5, 6, 7, 8, 9]\n"
     ]
    }
   ],
   "source": [
    "print(list(range(0, 10)))"
   ]
  },
  {
   "cell_type": "code",
   "execution_count": null,
   "metadata": {
    "collapsed": true
   },
   "outputs": [],
   "source": []
  }
 ],
 "metadata": {
  "kernelspec": {
   "display_name": "Python 3",
   "language": "python",
   "name": "python3"
  },
  "language_info": {
   "codemirror_mode": {
    "name": "ipython",
    "version": 3
   },
   "file_extension": ".py",
   "mimetype": "text/x-python",
   "name": "python",
   "nbconvert_exporter": "python",
   "pygments_lexer": "ipython3",
   "version": "3.6.0"
  }
 },
 "nbformat": 4,
 "nbformat_minor": 2
}
